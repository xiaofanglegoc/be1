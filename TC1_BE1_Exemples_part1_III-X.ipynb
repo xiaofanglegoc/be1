{
 "cells": [
  {
   "cell_type": "markdown",
   "metadata": {
    "collapsed": false
   },
   "source": [
    "# III Introduction\n",
    "* Python est un langage de programmation à la fois impératif, fonctionnel et objet avec un typage dynamique. Dans Python, toute est expression et toute expression représente une valeur (que l’on peut stocker / affecter / écrire / ... ou pas).\n",
    "\n",
    "* Penser à utiliser la fonction **help** pour connaitre les détails d’une fonction : par exemple `help(’print’)` ou `print?` (ou encore `print??`)\n",
    "\n",
    "* Si vous travaillez sans un IDE (éditeur avec interprète de Python intégré), préférez *IPython* à l’interprète de base de Python. IPython fournit des outils supplémentaires ainsi qu’un accès au système hôte (Windows, Linux, MacOS, etc).\n",
    "\n",
    "## III-1 Commentaires en Python\n",
    "* Deux manières pour écrire un commentaire en Python :"
   ]
  },
  {
   "cell_type": "code",
   "execution_count": null,
   "metadata": {
    "collapsed": false
   },
   "outputs": [],
   "source": [
    "\n",
    "# En Python, un commentaire court commence par un # et se limite à la fin de la ligne\n",
    "\"\"\"\n",
    "On peut aussi créer un commentaire long = une zone de commentaires sur plusieurs lignes placées\n",
    "entre une paire de triple−guillements dont le second suit : \n",
    "\"\"\""
   ]
  },
  {
   "cell_type": "markdown",
   "metadata": {
    "collapsed": true
   },
   "source": [
    "## $\\implies$Remarques :\n",
    "* Un ’ ;’ à la fin d’une ligne rend la ligne muette (pas d’affichage des résultats). Il permet également de placer plusieurs expressions sur la même ligne.\n",
    "* <font color=red>Si vous placez un commentaire immédiatement après la signature d’une fonction</font> (ou une méthode, une classe, etc.) entre un couple de \"\"\", votre commentaire (appelé *docstring*) devient accessible avec *help* :\n",
    "* Python est un langage à indentation : un bloc est une zone contigüe de lignes d’expressions avec la même indenta- tion. Un tel bloc peut en contenir d’autres.\n",
    "- $\\to$ Essayer d’utiliser la même indentation partout (espaces ou tabulation). Une mauvaise indentation qui ne provoque\n",
    "pas d’erreur de syntaxe est un piège parfois difficile à détecter."
   ]
  },
  {
   "cell_type": "markdown",
   "metadata": {},
   "source": [
    "# IV Exemples et exercices simples\n",
    "## IV-1 Exemple 1 : moyenne\n",
    "* Calcul de la moyenne de deux entiers"
   ]
  },
  {
   "cell_type": "code",
   "execution_count": null,
   "metadata": {
    "collapsed": false,
    "scrolled": true
   },
   "outputs": [],
   "source": [
    "a=input('Donner la valeur de a : ') \n",
    "b=input('Donner la valeur de b : ')\n",
    "print('la moyenne = ', (int(a) + int(b))/2) # int(a) : conversion de ’a’ en entier"
   ]
  },
  {
   "cell_type": "markdown",
   "metadata": {},
   "source": [
    "* Une seconde méthode : on convertit en lisant les valeurs en `int`"
   ]
  },
  {
   "cell_type": "code",
   "execution_count": null,
   "metadata": {
    "collapsed": false
   },
   "outputs": [],
   "source": [
    "a=int(input('Donner la valeur de a :')) \n",
    "b=int(input('Donner la valeur de b :'))\n",
    "print('la moyenne = ', (a+b)/2)"
   ]
  },
  {
   "cell_type": "markdown",
   "metadata": {},
   "source": [
    "### Points Python :\n",
    "- `input`\n",
    "- Conversion en `int`.\n",
    "- `print`\n",
    "- Affectation (=)"
   ]
  },
  {
   "cell_type": "markdown",
   "metadata": {},
   "source": [
    "### $\\implies$Remarque : que se passe-t-il si au lieu de donner un entier, on donne une lettre ?\n",
    "$\\to$ Voir plus loin les *exceptions* section XV page 26"
   ]
  },
  {
   "cell_type": "markdown",
   "metadata": {},
   "source": [
    "# IV-2 Exemple 2 : racines carrées\n",
    "* Lire les coefficients $a, b, c$ et calculer et afficher les racines de l’équation quadratique $ax^2 + bx + c = 0$"
   ]
  },
  {
   "cell_type": "code",
   "execution_count": null,
   "metadata": {
    "collapsed": false
   },
   "outputs": [],
   "source": [
    "import math;\n",
    "\n",
    "a = int(input('Donner le coefficient a: '))\n",
    "b = int(input('Donner le coefficient b: '))\n",
    "c = int(input('Donner le coefficient c: '))\n",
    "\n",
    "if (a==0):\n",
    "    if (b!=0):\n",
    "        print(\"Pas quadratique : racine simple x =\", -c/b)\n",
    "    else:\n",
    "        print(\"Une blague !\")\n",
    "else:\n",
    "    delta = b*b-4*a*c  # ou b**2\n",
    "    if (delta<0):\n",
    "        print(\"Pas de racines reelles\")\n",
    "    else:\n",
    "        assert(a!=0) # Déjà vérifié mais pour montrer l'intérêt de \"assert\".\n",
    "        if (delta>0):\n",
    "            x1 = (-b+math.sqrt(delta))/(2*a)\n",
    "            x2 = (-b-math.sqrt(delta))/(2*a)\n",
    "            print(\"x1 = \",x1)\n",
    "            print(\"x2 = \",x2)\n",
    "        else:\n",
    "            x1 = x2 = -b/(2*a)\n",
    "            print(\"racine double x1 = x2 = \",x1)"
   ]
  },
  {
   "cell_type": "markdown",
   "metadata": {},
   "source": [
    "* Après un ’ :’ (d’ouverture d’un block), si vous passez à la ligne, n’oubliez pas l’indentation."
   ]
  },
  {
   "cell_type": "markdown",
   "metadata": {},
   "source": [
    "### Points Python:\n",
    "- `import`\n",
    "- structures conditionnelles `if-else`, `if-elif-else`, **assert**\n",
    "- indentation (préférez des espaces à la tabulation) : espaces ou tabulation, utilisez la même chose dans un bloc !\n",
    "- testetcomparaisons(==,!=, < , >, >=, <=, ...)\n",
    "- `math.sqrt()`"
   ]
  },
  {
   "cell_type": "markdown",
   "metadata": {},
   "source": [
    "### $\\implies$ Remarques :\n",
    "* Contrairement aux versions antérieures à Python 3, le résultat de l’opérateur ’/’ est un réel. Pour récupérer la partie entière d’une division, utiliser ’//’ (ou convertir le quotient en un entier).\n",
    "* La notation **math.sqrt(delta)** : pour éviter de mentionner **math**, remplacer `\"import math;\"` par `\"from math import sqrt;\"` (voir aussi plus loin à propos des modules)"
   ]
  },
  {
   "cell_type": "markdown",
   "metadata": {},
   "source": [
    "## <font color=red>IV-3 Exercice : pair/impair</font>\n",
    "* Lire un entier au clavier et décider (et afficher) s’il est pair ou impair."
   ]
  },
  {
   "cell_type": "markdown",
   "metadata": {},
   "source": [
    "# V Introduction aux fonctions\n",
    "* Une fonction est définie par \n",
    "```\n",
    "def nom_fonction(paramètres formels):\n",
    "|-indent-|Corps de la fonction\n",
    "```\n",
    "Cette fonction sera appelée par\n",
    "```\n",
    "nom_fonction(arguments d’appel)\n",
    "```\n",
    "## V-1 Exemple : moyenne de deux entiers\n",
    "* Calcul de la moyenne de deux entiers par une fonction (de signature $entier \\times entier \\to reel$)\n"
   ]
  },
  {
   "cell_type": "code",
   "execution_count": null,
   "metadata": {
    "collapsed": false
   },
   "outputs": [],
   "source": [
    "def moyenne(a,b) :\n",
    "    return (a+b)/2  #indentation obligatoire si vous passez à la ligne après ’ :’\n",
    "\n",
    "# −−− Partie Principale −−−− \n",
    "a=input('Donner la valeur de a : ') \n",
    "b=input('Donner la valeur de b : ')\n",
    "print('la moyenne = ', moyenne(int(a),int(b)))"
   ]
  },
  {
   "cell_type": "markdown",
   "metadata": {},
   "source": [
    "* $\\to$ Et pour la signature $moyenne : entier \\times entier \\to entier$ ?"
   ]
  },
  {
   "cell_type": "code",
   "execution_count": null,
   "metadata": {
    "collapsed": true
   },
   "outputs": [],
   "source": [
    "# à compléter"
   ]
  },
  {
   "cell_type": "markdown",
   "metadata": {},
   "source": [
    "## <font color=red>V-2 Exercice : Racines d’une quadratique avec une fonction</font>\n",
    "* Reprendre l’exemple du calcul des racines d’une équation de seconde degré et placer les calculs dans la fonction `quadratique(a, b, c)` qui reçoit en paramètre les coefficients $a$, $b$ et $c$ et renvoie les racines de cette équation.\n",
    "### $\\implies$ Remarques :\n",
    "* Une fonction Python peut renvoyer différents types de données : il n’y a pas de contrôle (n’en déplaise aux *Camliens* !).\n",
    "* Dans le cas présent, on décide de renvoyer un string (au lieu de float ou string).\n",
    "* Savoir quel type de donnée une fonction doit renvoyer est davantage nécessaire si ce résultat doit participer à une expressions (P. ex. une expression effectuant $\\int$ ou $\\sum$ sur la fonction `quadratique`).\n",
    "* Pour répondre à de telles situations en Python, le mécanisme d’*exception* permet de définir des *fonctions partielles* (comme `quadratique`) qui s’appliquent sous certaines conditions, voir la section XV page 26."
   ]
  },
  {
   "cell_type": "markdown",
   "metadata": {},
   "source": [
    "## <font color=red>V-3 Exercice : Moyenne et écart type</font>\n",
    "* Dans cet exercice, on utilisera des fonctions travaillant avec une liste remplie par un tirage $Gaussien$. Pour ce faire, on écrira (pour le moment et avant d’en voir les détails) :\n",
    "```\n",
    "import random\n",
    "echantillon=[random.gauss(16,2) for n in range(100)]\n",
    "```\n",
    "qui crée une liste de 100 nombres de la distribution ${\\cal N} (16, 2)$.\n",
    "* Voir les $tirages~aléatoires$ en section XVI, page 29 et les $listes~en~compréhension$ en section XXIII, page 46."
   ]
  },
  {
   "cell_type": "markdown",
   "metadata": {},
   "source": [
    "## <font color=red>V-4 Variante : Exercice (suite écart type)</font>\n",
    "* Il y a une seconde manière de calculer l’écart type (qui est adaptée à un calcul de la moyenne et de la variance partielles, par exemple, lorsque les $x_i$ se présentent au fur et à mesure) :$$var = \\frac{1}{N}\\sum_{1}^{N}(x_i-\\mu)^2 = \\frac{1}{N}\\left( \\sum_{1}^{N}x_i^2 + \\sum_{1}^{N}\\mu^2 - \\sum_{1}^{N}2x_i\\mu \\right) = \\frac{1}{N}\\left( \\sum_{1}^{N}x_i^2 + N\\mu^2 - 2\\mu\\sum_{1}^{N}x_i \\right) = \\frac{1}{N}\\left( \\sum_{1}^{N}x_i^2 + N\\mu^2 - 2\\mu N\\mu \\right)$$ Et donc $$var = \\frac{1}{N}\\sum_{1}^{N}(x_i^2) - \\mu^2$$\n",
    "$\\to$ Il faut donc construire une liste contenant les $x_i^2, x_i \\in echantillon$\n",
    "* **Écrire** le code Python nécessaire pour calculer l’écart type de cette seconde manière (réutilisez `moyenne()` ci-dessus) et vérifier bien que le résultat correspond au calcul précédent."
   ]
  },
  {
   "cell_type": "markdown",
   "metadata": {},
   "source": [
    "# VI Créer un script Python indépendant\n",
    "* Supposons que nous souhaitons créer une version exécutable du calcul des racines d’une équation quadratique (vu ci-dessus) et de pouvoir utiliser cette fonction dans un programme indépendant (on veut un $script Python$).\n",
    "<br>$\\to$ Cela nous évitera de lancer pyzo/spyder/... pour utiliser notre fonction.\n",
    "<br><br>Pour commencer, on place le code vu ci-dessus dans le fichier `racines.py`. Pour les besoins de l’exemple, on sim-\n",
    "plifie le code en prenant moins de précautions au niveau des coefficients (car on maîtrise les arguments d’appel).\n",
    "<br><br>On n’oublie pas de tester cette fonction pour s’assurer qu’elle fonctionne !"
   ]
  },
  {
   "cell_type": "code",
   "execution_count": null,
   "metadata": {
    "collapsed": false
   },
   "outputs": [],
   "source": [
    "from math import sqrt;\n",
    "\n",
    "# résolution équation quadratique\n",
    "def trinome(a,b,c):\n",
    "    delta = b**2 - 4*a*c\n",
    "    if delta > 0.0:\n",
    "        assert(a!=0)\n",
    "        racine_delta = sqrt(delta)\n",
    "        return (2, (-b-racine_delta)/(2*a), (-b+racine_delta)/(2*a))\n",
    "    elif delta<0.0: return (0,)\n",
    "    else:\n",
    "        assert(a!=0)\n",
    "        return (1,(-b/(2*a)))\n",
    "\n",
    "#___ Partie Principale ___\n",
    "print(trinome(1.0, -3.0, 2.0))\n",
    "print(trinome(1.0, -2.0, 1.0))\n",
    "print(trinome(1.0, 1.0, 1.0))\n",
    "\n",
    "\"\"\"\n",
    "On obtient\n",
    "(2, 1.0, 2.0)\n",
    "(1, 1.0)\n",
    "(0,)\n",
    "\"\"\""
   ]
  },
  {
   "cell_type": "markdown",
   "metadata": {},
   "source": [
    "## VI-1 Une façon simple\n",
    "* Placer ce code dans un fichier `racines.py`.\n",
    "* D’emblée, vous pouvez prendre une fenêtre \"terminal\" sur votre machine et taper la commande \n",
    "<br>`$ python racines.py` \n",
    "<br>(ou `c:\\> python.exe racines.py` sous Windows)\n",
    "<br> $\\to$ La partie \"principale\" de votre code s’exécute et utilisera la fonction que vous avez définie.\n",
    "* Si vous souhaitez éviter de taper `python` au début de la commande, vous pouvez :\n",
    " * Sous linux : Ajouter au tout début de ce fichier la ligne (dite $shebang$)\n",
    " <br> `#!/usr/bin/python` ou(mieux) `#!/usr/bin/env python`\n",
    " <br> Puis rendez ce code exécutable par la commande Linux: `chmod u+x racines.py`\n",
    " <br> Puis exécuter ce programme en tapant simplement dans une console: `$ ./racines.py`\n",
    " * Sous Windows : exécuter votre code dans une fenêtre de commande par: `python.exe racines.py`\n",
    " <br> Windows ne semble pas avoir le mécanisme $shebang$ (à moins d’avoir installé $cygwin$)\n",
    "* Complétons en nous donnant les moyens d’importer nos propres fonctions pour les utiliser dans d’autres codes."
   ]
  },
  {
   "cell_type": "markdown",
   "metadata": {},
   "source": [
    "## VI-2 Une solution plus élaborée\n",
    "* Il arrive que l’on ait besoin d’utiliser les fonctions qu’on a définies dans un autre programme Python (à l’aide de `import`).\n",
    "* On crée le fichier `utiliser_racines.py` avec le contenu suivant (placer les deux fichiers \"`.py`\" dans le même répertoire) :"
   ]
  },
  {
   "cell_type": "code",
   "execution_count": null,
   "metadata": {
    "collapsed": false
   },
   "outputs": [],
   "source": [
    "from racines import trinome; \n",
    "print(trinome(2.0, -4.0, 2.0))"
   ]
  },
  {
   "cell_type": "markdown",
   "metadata": {},
   "source": [
    "* Puis exécuter ce dernier et obtenir (un peu trop de réponses) :\n",
    "<br>(2, 1.0, 2.0)  <= Qu’est-ce que c’est ?\n",
    "<br>(1, 1.0) <= Et ça\n",
    "<br>(0,)  <= ;-)\n",
    "<br><br>(1 , 1.0)  # Il nous faut juste ceci\n",
    "* <font color=red>Le problème est que la partie principale de `racines.py` s’exécute aussi!</font> Et ce n’est pas ce que l’on veut.\n",
    "* **Résumons :**\n",
    " * Nous voulons être capables de tester nos fonctions placées dans `racines.py`,\n",
    " * Nous voulons pouvoir lancer ce fichier comme un programme exécutable indépendant,\n",
    " * Nous voulons également réutiliser les dites fonctions dans d’autres programmes Python (comme nous l’avons fait dans `utiliser_racines.py`\n",
    "* **La solution** est de faire précéder la partie \"programme principal\" de `racines.py` par :\n",
    "<br> `if __name__ == \"__main__\":`\n",
    "<br> Puis placer le contenu de la partie principale en dessous (avec indentation !)\n",
    "* Cela donne (\"assert\" oubliés car on sait comment on appelle cette fonction depuis \"main\" ) :"
   ]
  },
  {
   "cell_type": "code",
   "execution_count": null,
   "metadata": {
    "collapsed": false
   },
   "outputs": [],
   "source": [
    "from math import sqrt;\n",
    "\n",
    "# fonction\n",
    "def trinome(a,b,c):\n",
    "    delta = b**2 - 4*a*c\n",
    "    if delta > 0.0:\n",
    "        racine_delta = sqrt(delta)\n",
    "        return (2, (-b-racine_delta)/(2*a), (-b+racine_delta)/(2*a))\n",
    "    elif delta<0.0: return (0,)\n",
    "    else: return (1,(-b/(2*a)))\n",
    "\n",
    "if __name__ == \"__main__\":\n",
    "    print(trinome(1.0, -3.0, 2.0))\n",
    "    print(trinome(1.0, -2.0, 1.0))\n",
    "    print(trinome(1.0, 1.0, 1.0))"
   ]
  },
  {
   "cell_type": "markdown",
   "metadata": {},
   "source": [
    "* Pour exécuter ce programme, dans une fenêtre de console, taper\" :\n",
    "<br> `racines_1.py`\n",
    "<br> OU (sous Windows) :\n",
    "<br> `python racines_1.py`\n",
    "* On peut maintenant importer notre fonction dans `utiliser_racines.py` ci-après sans que la partie principale de `racines.py` ne s’exécute :"
   ]
  },
  {
   "cell_type": "code",
   "execution_count": null,
   "metadata": {
    "collapsed": false
   },
   "outputs": [],
   "source": [
    "from racines_1 import trinome;\n",
    "print(trinome(2.0, -4.0, 2.0))\n"
   ]
  },
  {
   "cell_type": "markdown",
   "metadata": {},
   "source": [
    "Puis exécuter ce programme (par les moyens expliqués ci-dessus) et obtenir :\n",
    "<br> (1 , 1.0)\n",
    "* Noter que `racines.py` reste indépendant et exécutable si on le souhaite."
   ]
  },
  {
   "cell_type": "markdown",
   "metadata": {},
   "source": [
    "# VII Types principaux en Python\n",
    "* Les types principaux de Python :\n",
    " * **int**: sur 4 octes \n",
    " * **long**: sur 4(ou 8 octes)\n",
    " * **float**: réel\n",
    " * **str**: chaîne de caractères\n",
    " * **bool**: booléen\n",
    " * **tuple**: comme `(1,2,\"ECL\", 3.14)`\n",
    " * **list**: liste\n",
    " * **set**: ensemble\n",
    " * **range**: liste de valeurs à générer (xrange() en Python2)\n",
    " * **dict**: dictionnaire comme `{’small’ : 1, ’large’ : 2}`\n",
    " * **complex**: nombre complexe (ex : 1j est une des racine de -1)\n",
    " * **file**: fichier\n",
    " * **none**: vide (équivalent à void)\n",
    " * **exception**: exception\n",
    " * **function**: fonction\n",
    " * **module**: module\n",
    " * **object**: objet\n",
    " * **slice**: objet extensible\n",
    " * **unicode**: chaîne de la norme Unicode\n",
    " * **basestring**: `str + Unicode`\n",
    " \n",
    "$\\implies$ La lettre ’j’ ou ’J’ est utilisée pour la partie imaginaire d’un nombre complexe. Pourquoi pas ’i’ ou ’I’ ? : les concep- teurs de Python ont suivi les symboles utilisés en Ingénierie où ’I’ est déjà utilisé comme symbole du courant.\n",
    "\n",
    "$\\implies$ Voir ci-après pour les conversions entre ces types.\n",
    "\n",
    "## VII-1 Exemples"
   ]
  },
  {
   "cell_type": "code",
   "execution_count": null,
   "metadata": {
    "collapsed": false
   },
   "outputs": [],
   "source": [
    "if type(1) is not int : print('oups')"
   ]
  },
  {
   "cell_type": "code",
   "execution_count": null,
   "metadata": {
    "collapsed": false
   },
   "outputs": [],
   "source": [
    "if type('1') is not int : print(1)"
   ]
  },
  {
   "cell_type": "code",
   "execution_count": null,
   "metadata": {
    "collapsed": false
   },
   "outputs": [],
   "source": [
    "type(3.14) # float"
   ]
  },
  {
   "cell_type": "code",
   "execution_count": null,
   "metadata": {
    "collapsed": false
   },
   "outputs": [],
   "source": [
    "type(None) # NoneType"
   ]
  },
  {
   "cell_type": "code",
   "execution_count": null,
   "metadata": {
    "collapsed": false
   },
   "outputs": [],
   "source": [
    "X = lambda c : c if c.isalpha() else ''\n",
    "type(X) # function"
   ]
  },
  {
   "cell_type": "markdown",
   "metadata": {},
   "source": [
    "* Pour connaître les détails des types et leurs limites (les tailles sont en byte = 2 octets en Python) :"
   ]
  },
  {
   "cell_type": "code",
   "execution_count": null,
   "metadata": {
    "collapsed": false
   },
   "outputs": [],
   "source": [
    "import sys;\n",
    "\n",
    "print(sys.int_info)\n",
    "# sys.int_info(bits_per_digit=30, sizeof_digit=4)\n",
    "\n",
    "print(sys.float_info)\n",
    "# sys.float_info(max=1.7976931348623157e+308, max_exp=1024, max_10_exp=308, min=2.2250738585072014e-308, min_exp=-1021, min_10_exp=-307, dig=15, mant_dig=53, epsilon=2.220446049250313e-16, radix=2, rounds=1)\n",
    "\n",
    "print(sys.getsizeof(float)) # La taille de la classe float\n",
    "# 400\n",
    "print(sys.getsizeof(float())) # La taille d'un float\n",
    "# 24 # Ce que coute en octes un réel (valeur+infos supplémentaires)"
   ]
  },
  {
   "cell_type": "markdown",
   "metadata": {},
   "source": [
    "# VIII Conversions de types\n",
    "* Quelques conversions entre les types de données :\n",
    " * `int(val)`: convertir en entier (la partie entière).\n",
    " * `long(val)`: transforme une valeur en long.\n",
    " * `float(val)`: transformation en flottant.\n",
    " * `complex(re,im)`: transformation en nombre complexe.\n",
    " * `str(val)`: transforme la plupart des variables en chaînes de caractères.\n",
    " * `repr(val)`: similaire à str.\n",
    " * `eval(str)`: évalue le contenu de son argument comme si c’était du code Python (déconseillé).\n",
    " * `unicode(val)`: convertit en Unicode comme dans `u\"aà eéèê\" # donne le code de la chaîne`\n",
    " \n",
    "## VIII-1 Exemples de conversion de types\n",
    "* <u>caractères en string</u> : liste de caractères entiers en string :"
   ]
  },
  {
   "cell_type": "code",
   "execution_count": null,
   "metadata": {
    "collapsed": false
   },
   "outputs": [],
   "source": [
    "list1 = ['1','2','3']\n",
    "str1 = ''.join(list1)\n",
    "\n",
    "str1\n",
    "# '123'"
   ]
  },
  {
   "cell_type": "markdown",
   "metadata": {},
   "source": [
    "Ici, la fonction `join()` va accoler les éléments de son paramètre et les mettre *à la que leu-leu*. La chaîne vide (”) placée à gauche de `join()` sera le <u>séparateur</u> à placer entre les éléments accolés (ici rien).\n",
    "* <u>entiers en string</u> : liste d’entiers en string : on convertie chaque entier en caractère (car `join()` s’applique aux strings) puis"
   ]
  },
  {
   "cell_type": "code",
   "execution_count": null,
   "metadata": {
    "collapsed": false
   },
   "outputs": [],
   "source": [
    "list1 = [1, 2, 3]\n",
    "str1 = ''.join(str(e) for e in list1) # ou avec \"\" à la place de ''\n",
    "\n",
    "str1\n",
    "# '123'"
   ]
  },
  {
   "cell_type": "markdown",
   "metadata": {},
   "source": [
    "* <u>string en entier</u> : pour convertir un string `S` composé de chiffres en un entier, `int(S)` suffit. Par contre, si on n’est pas certain que les caractères de `S` sont des chiffres, un contrôle est nécessaire (voir exercice ci-dessous).\n",
    "* <u>string en réel</u> : pour convertir un string `S` composé de chiffres en un réel, `float(S)` suffit. Cependant, la même précaution que pour les entiers ci-dessus s’applique."
   ]
  },
  {
   "cell_type": "code",
   "execution_count": null,
   "metadata": {
    "collapsed": false
   },
   "outputs": [],
   "source": [
    "a = \"545.2222\"\n",
    "print(float(a))\n",
    "# 545.2222\n",
    "\n",
    "print(int(float(a)))\n",
    "# 545"
   ]
  },
  {
   "cell_type": "markdown",
   "metadata": {},
   "source": [
    "Ou en passant par une petite fonction (de même pour un entier) :"
   ]
  },
  {
   "cell_type": "code",
   "execution_count": null,
   "metadata": {
    "collapsed": false
   },
   "outputs": [],
   "source": [
    "def is_float(value):\n",
    "    try:\n",
    "        float(value)\n",
    "        return True\n",
    "    except:\n",
    "        return False\n",
    "\n",
    "is_float(23)"
   ]
  },
  {
   "cell_type": "markdown",
   "metadata": {},
   "source": [
    "Pour les $exceptions$, voir la section XV en page 26.\n",
    "## <font color=red>VIII-2 Exercice</font>\n",
    "* Écrire la fonction `convertir(S)` qui convertit son paramètre (un string) en un entier. Pour que la conversion soit possible, le paramètre $S$ doit être être composé de chiffres éventuellement précédé d’un signe.\n",
    "<br> Noter qu’on peut accéder à `S[i]` ($i$ commence à 0)\n",
    "<br> $\\implies$ Si un string $S$ ne contient que des chiffres : `S.isdigit()` est vrai."
   ]
  },
  {
   "cell_type": "markdown",
   "metadata": {},
   "source": [
    "# IX Modules Python\n",
    "* Format général :\n",
    "\n",
    "```\n",
    "import tel_module\n",
    "tel_module.fonc(..) #appel de la fonction fonc du module\n",
    "```\n",
    "\n",
    "* Mieux conseillé :\n",
    "\n",
    "```\n",
    "import tel_module as mod1 \n",
    "import un_module as mod2\n",
    "mod1.fonc(..) #appel de la fonction fonc du tel_module\n",
    "mod2.fonc(..) #appel de la fonction homonyme du un_module\n",
    "```\n",
    "<br>$\\to$ Cette écriture permet d’éviter les conflits de noms (`cf.fonc()`).\n",
    "\n",
    "* On peut adapter un nom de fonction dans notre code :\n",
    "\n",
    "```\n",
    "import tel_module\n",
    "\n",
    "def ma_fonction():\n",
    "localname = tel_module.fonc\n",
    "foo = localname(bar)\n",
    "```\n",
    "\n",
    "* Si on veut importer une fonction d’un module de façon plus précise :\n",
    "\n",
    "```\n",
    "from tel_module import fonc\n",
    "fonc(..) #appel de la fonction fonc du module\n",
    "```\n",
    "\n",
    "* Déconseillé : on risque de créer des conflits de noms :\n",
    "\n",
    "```\n",
    "from tel_module import *\n",
    "fonc(..) #appel de la fonction fonc du module\n",
    "```\n",
    "\n",
    "* Sachant qu’un module peut importer d’autres modules, préférez :"
   ]
  },
  {
   "cell_type": "code",
   "execution_count": null,
   "metadata": {
    "collapsed": false
   },
   "outputs": [],
   "source": [
    "import scipy.stats as st \n",
    "st.nanmean([1,2,4])"
   ]
  },
  {
   "cell_type": "markdown",
   "metadata": {},
   "source": [
    "à cette autre manière équivalente :"
   ]
  },
  {
   "cell_type": "code",
   "execution_count": null,
   "metadata": {
    "collapsed": false
   },
   "outputs": [],
   "source": [
    "import scipy.stats \n",
    "scipy.stats.nanmean([2,3,5])"
   ]
  },
  {
   "cell_type": "markdown",
   "metadata": {},
   "source": [
    "* On privilégie la parcimonie (importer seulement ce qui est nécessaire) :"
   ]
  },
  {
   "cell_type": "code",
   "execution_count": null,
   "metadata": {
    "collapsed": false
   },
   "outputs": [],
   "source": [
    "from scipy.stats import nanmean,nanstd \n",
    "print(nanmean([1,3,4]))\n",
    "print(nanstd([1,3,4]))"
   ]
  },
  {
   "cell_type": "markdown",
   "metadata": {},
   "source": [
    "* **Un compromis intéressant** : on peut renommer les fonctions importées pour éviter les conflits de noms :"
   ]
  },
  {
   "cell_type": "code",
   "execution_count": null,
   "metadata": {
    "collapsed": false
   },
   "outputs": [],
   "source": [
    "from sys import argv as sys_argv\n",
    "print(sys_argv)"
   ]
  },
  {
   "cell_type": "markdown",
   "metadata": {},
   "source": [
    "# X La fonction range\n",
    "* Format de la fonction range() : **range([début], fin, [incrément])**\n",
    "<br>$\\to$ Le $début$ et l’$incrément$ sont optionnels (mis entre [ ]).\n",
    "<br>Si on donne deux arguments à `range()`, ce seront alors le début et la fin de l’intervalle (et l’$incrément$=1).\n",
    "\n",
    "<u>Exemple</u> : utilisez la fonction **range()** pour afficher une liste contenant\n",
    " * les entiers de 0 à 3 ;\n",
    " * les entiers de 4 à 7 ;\n",
    " * les entiers de 2 à 8 par pas de 2"
   ]
  },
  {
   "cell_type": "code",
   "execution_count": null,
   "metadata": {
    "collapsed": false
   },
   "outputs": [],
   "source": [
    "print(\"range(4) =\", list(range(4)))\n",
    "print(\"range(4, 8) =\", list(range(4, 8)))\n",
    "print(\"range(2, 9, 2) =\", list(range(2, 9, 2)), \"\\n\")"
   ]
  },
  {
   "cell_type": "markdown",
   "metadata": {},
   "source": [
    "$\\implies$ Remarques : Python 3.4 \"oblige\" à écrire `print(list(range(4)))` au lieu de `print(range(4))` car range(4) ne représente pas l’intervalle souhaité sous forme de 0..3 (on dit qu’elle représente l’intervalle $par~intension$ ou $compréhension$ alors que 0..3 est l’intervalle par extension obtenu via la fonction `list`)"
   ]
  },
  {
   "cell_type": "code",
   "execution_count": null,
   "metadata": {
    "collapsed": false
   },
   "outputs": [],
   "source": [
    "R=range(4)\n",
    "print(type(R))\n",
    "# range\n",
    "print(list(R))\n",
    "#[0,1,2,3]"
   ]
  },
  {
   "cell_type": "markdown",
   "metadata": {},
   "source": [
    "## X-1 Deux ou trois trucs pratiques sur range\n",
    "1- Valeurs pour une séquence de variables : Permet d’assigner les valeurs 0..7 à la séquence a, b, c, d, e, f, g, h."
   ]
  },
  {
   "cell_type": "code",
   "execution_count": null,
   "metadata": {
    "collapsed": false
   },
   "outputs": [],
   "source": [
    "a, b, c, d, e, f, g, h = range(8)\n",
    "print(a)\n",
    "print(b)\n",
    "print(c)\n",
    "print(d)\n",
    "print(e)\n",
    "print(f)\n",
    "print(g)\n",
    "print(h)"
   ]
  },
  {
   "cell_type": "markdown",
   "metadata": {},
   "source": [
    "2- Valeurs d’un `range()` à l’envers :"
   ]
  },
  {
   "cell_type": "code",
   "execution_count": null,
   "metadata": {
    "collapsed": false
   },
   "outputs": [],
   "source": [
    "print(range(4)[::-1]) # représente l’intervall à l’envers \n",
    "print(list(range(4)[::-1])) # à l’envers\n",
    "#[3,2,1,0]"
   ]
  },
  {
   "cell_type": "markdown",
   "metadata": {},
   "source": [
    "On obtient le même effet en explicitant l’intervalle [3 .. -1[ et un incrément = -1 :"
   ]
  },
  {
   "cell_type": "code",
   "execution_count": null,
   "metadata": {
    "collapsed": false
   },
   "outputs": [],
   "source": [
    "list(range(3,-1,-1)) # Noter les bornes \n",
    "#[3,2,1,0]"
   ]
  },
  {
   "cell_type": "markdown",
   "metadata": {},
   "source": [
    "3- Interroger les valeurs potentielles d’un `range` :"
   ]
  },
  {
   "cell_type": "code",
   "execution_count": null,
   "metadata": {
    "collapsed": false
   },
   "outputs": [],
   "source": [
    "R=range(4) # R est du type range\n",
    "print(R)\n",
    "print(R.count(0)) # Combien de ’0’ dans R\n",
    "#1\n",
    "print(R.index(2)) # L’indice de ’2’ dans R\n",
    "#2"
   ]
  },
  {
   "cell_type": "markdown",
   "metadata": {},
   "source": [
    "4- Dans `range(debut, fin)`, on a en général $debut < fin$ tandis qu’avec $debut ≥ fin$, on désigne un intervalle vide (et non une erreur)."
   ]
  },
  {
   "cell_type": "code",
   "execution_count": null,
   "metadata": {
    "collapsed": false
   },
   "outputs": [],
   "source": [
    "list(range(2,1))\n",
    "#[]"
   ]
  },
  {
   "cell_type": "markdown",
   "metadata": {},
   "source": [
    "## <font color=red>X-2 Bonus : sommes</font>\n",
    "* Écrire le code Python en utilisant `range()` pour montrer les équivalences suivantes.\n",
    "* En Python, `x*sum(S) == sum(x*y for y in S)` représente $x\\sum_{y \\in S}y = \\sum_{y \\in S} xy$\n",
    "* $\\sum_{i=m}^{n}f(i)$ donne en Python `sum(f(i) for i in range(m, n+1))` qui est équivalent à:\n",
    "```\n",
    "s=0\n",
    "for i in range(m, n+1):\n",
    "s += f(i)\n",
    "```\n",
    "\n",
    "* Les constantes multiplicatifs peuvent être insérées ou être sortie des sommes :\n",
    "$$c\\sum_{i=m}^{n}f(i) = \\sum_{i=m}^{n}cf(i)$$ car $$c(f(m)+...+f(n)) = cf(m)+...+cf(n)$$\n",
    "\n",
    "* <u>Associativité</u> : sachant que $$\\sum_{i=m}^{n}f(i) + \\sum_{i=m}^{n}g(i) = \\sum_{i=m}^{n}(f(i)+g(i))$$, on peut écrire en Python :\n",
    "```\n",
    "sum(f(i) for i in S) + sum(g(i) for i in S)\n",
    "```\n",
    "qui est la même chose que: `sum(f(i) + g(i) for i in S)`.\n",
    "\n",
    "$\\to$ Notons que ces équivalences ne tiennent que si les fonctions en questions n’ont pas d’effet de bord (ne modifient pas la mémoire).\n",
    "* De même pour la soustraction."
   ]
  },
  {
   "cell_type": "code",
   "execution_count": null,
   "metadata": {
    "collapsed": true
   },
   "outputs": [],
   "source": []
  }
 ],
 "metadata": {
  "kernelspec": {
   "display_name": "Python [Root]",
   "language": "python",
   "name": "Python [Root]"
  },
  "language_info": {
   "codemirror_mode": {
    "name": "ipython",
    "version": 3
   },
   "file_extension": ".py",
   "mimetype": "text/x-python",
   "name": "python",
   "nbconvert_exporter": "python",
   "pygments_lexer": "ipython3",
   "version": "3.5.2"
  }
 },
 "nbformat": 4,
 "nbformat_minor": 0
}
