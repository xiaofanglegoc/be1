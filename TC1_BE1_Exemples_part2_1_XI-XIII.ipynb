{
 "cells": [
  {
   "cell_type": "markdown",
   "metadata": {},
   "source": [
    "# XI Les listes\n",
    "<img src=\"images/XI_01.PNG\">\n",
    "<img src=\"images/XI_02.PNG\">\n",
    "* Exemple d’affectation par tranches"
   ]
  },
  {
   "cell_type": "code",
   "execution_count": null,
   "metadata": {
    "collapsed": false
   },
   "outputs": [],
   "source": [
    "L = [1,2,3,4,5]\n",
    "L[2:3] = [0,0] # place '0' à l'indice 2 et ajoute tout le reste à la suite de celui-ci.\n",
    "\n",
    "print(L)\n",
    "# [1,2,0,0,4,5]\n",
    "\n",
    "L[1:1] = [8,9] # Idem\n",
    "print(L)\n",
    "# [1,8,9,2,0,0,4,5]\n",
    "\n",
    "L[1:-1] = [] # élément d'indice 1 au dernier (mais le dernier exclu) deviennet \"vide\"\n",
    "print(L)\n",
    "# [1,5]"
   ]
  },
  {
   "cell_type": "markdown",
   "metadata": {},
   "source": [
    "## XI-1 Un exemple sur les listes\n",
    "<img src=\"images/XI_03.PNG\">\n",
    "$\\implies$ Bien remarquer que certaines méthodes de liste ne retournent rien."
   ]
  },
  {
   "cell_type": "code",
   "execution_count": null,
   "metadata": {
    "collapsed": false
   },
   "outputs": [],
   "source": [
    "nombres = [17, 38, 10, 25, 72]\n",
    "print(\" Liste initiale \".center(50, '−')) \n",
    "print(nombres, '\\n')\n",
    "\n",
    "print(\" Tri \".center(50, '-'))\n",
    "nombres.sort () # TRI sur place (la liste est modifiée)\n",
    "print(nombres, '\\n')\n",
    "\n",
    "print(\" Ajout d’un element \".center(50, '−')) \n",
    "nombres.append(12)\n",
    "print(nombres, '\\n')\n",
    "\n",
    "print(\" Retournement \".center(50, '−')) \n",
    "nombres.reverse()\n",
    "print(nombres, '\\n')\n",
    "\n",
    "print(\" Indice d’un element \".center(50, '−')) \n",
    "print(nombres.index(17), '\\n')\n",
    "\n",
    "print(\" Retrait d’un element \".center(50, '−')) \n",
    "nombres.remove(38)\n",
    "print(nombres, '\\n')\n",
    "\n",
    "print(\" Indicage \".center(50, '−'))\n",
    "print(\"nombres[1:3] =\", nombres[1:3])\n",
    "print(\"nombres[:2] =\", nombres[:2])\n",
    "print(\"nombres[2:] =\", nombres[2:])\n",
    "print(\"nombres[:] =\", nombres[:])\n",
    "print(\"nombres[-1] =\", nombres[-1])\n",
    "print(\"nombres[-2] =\", nombres[-2])\n",
    "\n",
    "L = list(range(6)) # range(6) représente 0...5 qu'on transforme en une liste\n",
    "print(\"La liste =\", L)\n",
    "print(\"Test d’appartenance de l’element 3 :\", 3 in L) \n",
    "print(\"Test d’appartenance de l’element 6 :\", 6 in L)"
   ]
  },
  {
   "cell_type": "markdown",
   "metadata": {},
   "source": [
    "## XI-2 Autres exemples de fonctions sur les listes\n",
    "* Retrait du dernier élément (fonction partielle) avec **pop()** :"
   ]
  },
  {
   "cell_type": "code",
   "execution_count": null,
   "metadata": {
    "collapsed": false
   },
   "outputs": [],
   "source": [
    "L= [1 ,3 ,2 ] \n",
    "print(L)\n",
    "# [1,3,2] \n",
    "print(L.pop()) \n",
    "#2\n",
    "print(L)\n",
    "# [1,3] \n",
    "L.pop(); \n",
    "print(L.pop())\n",
    "#1\n",
    "print(L)\n",
    "# []\n",
    "L.pop()\n",
    "# IndexError : pop from empty list"
   ]
  },
  {
   "cell_type": "markdown",
   "metadata": {},
   "source": [
    "$\\implies$ `L.pop(i)` enlève et renvoie l’élément d’indice $i$ (à partir de 0) de la liste **L**.\n",
    "Si `i > l.len()-1`, on aura une exception `IndexError: pop index out of range.`\n",
    "* Copie de liste :"
   ]
  },
  {
   "cell_type": "code",
   "execution_count": null,
   "metadata": {
    "collapsed": false
   },
   "outputs": [],
   "source": [
    "L=[1,2,3]\n",
    "L1=L # L1 est homonyme de L; ce n'est pas une copie (la liste a maintenant deux noms !)\n",
    "L[0]=6\n",
    "print(L)\n",
    "# [6,2,3]\n",
    "print(L1)\n",
    "# [6,2,3]\n",
    "\n",
    "# Pour copier une liste, il faut être plus explicite:\n",
    "L2=L[:] # copier vraiement L dans L2\n",
    "L[1]=7\n",
    "print(L)\n",
    "# [6,7,3]\n",
    "print(L1)\n",
    "# [6,7,3]\n",
    "print(L2)\n",
    "# [6,2,3]"
   ]
  },
  {
   "cell_type": "markdown",
   "metadata": {},
   "source": [
    "<img src=\"images/XI_04.PNG\">"
   ]
  },
  {
   "cell_type": "code",
   "execution_count": null,
   "metadata": {
    "collapsed": false
   },
   "outputs": [],
   "source": [
    "print(sorted([5, 2, 3, 1, 4])) # Crée une nouvelle liste \n",
    "#[1,2,3,4,5]\n",
    "\n",
    "print(sorted([5, 2, 3, 1, 4] , reverse=True)) # Crée une nouvelle liste . On trie à l’envers \n",
    "#[5,4,3,2,1]\n",
    "\n",
    "a=[5,2,3,1,4]\n",
    "a.sort() # Tri sur place (la liste est modifiée) \n",
    "print(a)\n",
    "#[1,2,3,4,5]\n",
    "\n",
    "print(sorted({1: 'D' , 2: 'B' , 3: 'B' , 4: 'E' , 5: 'A'}))\n",
    "#[1,2,3,4,5]"
   ]
  },
  {
   "cell_type": "markdown",
   "metadata": {},
   "source": [
    "<img src=\"images/XI_05.PNG\">"
   ]
  },
  {
   "cell_type": "code",
   "execution_count": null,
   "metadata": {
    "collapsed": false
   },
   "outputs": [],
   "source": [
    "#Dans cet exemple, on demande (par split()) à isoler les mots puis à trier leur frome minuscule \n",
    "print(sorted(\"Ceci est une Chaine de caractèrs Debase! \".split(), key=str.lower)) #passer d’abord en minuscules\n",
    "# [’caractèrs’, ’Ceci’, ’Chaine’, ’de’, ’Debase!’, 'est', 'une']\n",
    "\n",
    "# Nom, Note et Age des étudiants\n",
    "student_tuples = [\n",
    "    ('john', 'A', 25),\n",
    "    ('pasSa', 'B', 22),\n",
    "    ('tronche', 'B', 20),\n",
    "]\n",
    "\n",
    "print(sorted(student_tuples, key=lambda student: student[2])) # sort suivant l'Age\n",
    "# [('tronche', 'B', 20), ('pasSa', 'B', 22), ('john', 'A', 25)]"
   ]
  },
  {
   "cell_type": "markdown",
   "metadata": {},
   "source": [
    "<img src=\"images/XI_06.PNG\">\n",
    "## XI-3 Itération à l’envers\n",
    "<img src=\"images/XI_07.PNG\">\n",
    "* Par exemple:"
   ]
  },
  {
   "cell_type": "code",
   "execution_count": null,
   "metadata": {
    "collapsed": false
   },
   "outputs": [],
   "source": [
    "S=[1,2,3,4]\n",
    "for x in reversed(S):\n",
    "    print(x)\n",
    "#4\n",
    "#3\n",
    "#2\n",
    "#1"
   ]
  },
  {
   "cell_type": "markdown",
   "metadata": {},
   "source": [
    "* Ou par:"
   ]
  },
  {
   "cell_type": "code",
   "execution_count": null,
   "metadata": {
    "collapsed": false
   },
   "outputs": [],
   "source": [
    "S=[1,2,3,4]\n",
    "for x in S[::-1]:\n",
    "    print(x)\n",
    "#4\n",
    "#3\n",
    "#2\n",
    "#1"
   ]
  },
  {
   "cell_type": "markdown",
   "metadata": {},
   "source": [
    "## XI-4 Itération sur une liste avec enumerate\n",
    "* Si on doit écrire les éléments d’une liste avec le rang de chacun :"
   ]
  },
  {
   "cell_type": "code",
   "execution_count": null,
   "metadata": {
    "collapsed": false
   },
   "outputs": [],
   "source": [
    "strings = ['a','b','c','d','e']\n",
    "for index, string in enumerate(strings):\n",
    "    print(index, string)\n",
    "#0 a\n",
    "#1 b\n",
    "#2 c\n",
    "#3 d\n",
    "#4 e"
   ]
  },
  {
   "cell_type": "markdown",
   "metadata": {},
   "source": [
    "* On peut réaliser le même effet avec un accès aux éléments par indice :"
   ]
  },
  {
   "cell_type": "code",
   "execution_count": null,
   "metadata": {
    "collapsed": false
   },
   "outputs": [],
   "source": [
    "S = ['a','b','c','d','e']\n",
    "for index in range(len(S)):\n",
    "    print(index,S[index])\n",
    "#0 a\n",
    "#1 b\n",
    "#2 c\n",
    "#3 d\n",
    "#4 e"
   ]
  },
  {
   "cell_type": "markdown",
   "metadata": {},
   "source": [
    "## XI-5 Exemple : Pile\n",
    "<img src=\"images/XI_08.PNG\">"
   ]
  },
  {
   "cell_type": "code",
   "execution_count": null,
   "metadata": {
    "collapsed": false
   },
   "outputs": [],
   "source": [
    "def empile(p, a):\n",
    "    p.append(a)\n",
    "\n",
    "def depile(p):\n",
    "    try:\n",
    "        p.pop()\n",
    "        return p\n",
    "    except:\n",
    "        print(\"La pile est vide !\")\n",
    "        return None\n",
    "    \n",
    "def top(p):\n",
    "    try:\n",
    "        return p[0]\n",
    "    except:\n",
    "        print(\"La pile est vide!\")\n",
    "        return None\n",
    "    \n",
    "def est_vide(p):\n",
    "    return p==[]\n",
    "\n",
    "print(\"Pile initiale\".center(50,'_'))\n",
    "lifo = []\n",
    "empile(lifo,5); empile(lifo,8); empile(lifo,9)\n",
    "print(\"lifo:\",lifo,'\\n')\n",
    "rien = input('\"Entree\"')\n",
    "\n",
    "print(\"Empilage\".center(50,'_'))\n",
    "empile(lifo,11)\n",
    "print(\"lifo:\",lifo,'\\n')\n",
    "rien = input('\"Entree\"')\n",
    "\n",
    "print(\"Depilages\".center(50,'_'))\n",
    "for i in range(5): # du premier au 5e (d'indice 0 à l'indice 4)\n",
    "    depile(lifo)\n",
    "    print(\"lifo:\",lifo)\n",
    "    \n",
    "# TRACE\n",
    "#__________________Pile initiale___________________\n",
    "#lifo: [5, 8, 9] \n",
    "#\n",
    "#\"Entree\"\n",
    "#_____________________Empilage_____________________\n",
    "#lifo: [5, 8, 9, 11] \n",
    "#\n",
    "#\"Entree\"\n",
    "#____________________Depilages_____________________\n",
    "#lifo: [5, 8, 9]\n",
    "#lifo: [5, 8]\n",
    "#lifo: [5]\n",
    "#lifo: []\n",
    "#La pile est vide !\n",
    "#lifo: []"
   ]
  },
  {
   "cell_type": "markdown",
   "metadata": {},
   "source": [
    "## <font color=red>XI-6 Bonus : TDA Queue</font>\n",
    "* De la même manière, implémentez une queue FIFO avec une liste."
   ]
  },
  {
   "cell_type": "markdown",
   "metadata": {},
   "source": [
    "## <font color=red>XI-7 Exercice : enlever les doublons d’une liste</font>\n",
    "* Supprimer les éléments répétés dans une liste <u>sans changer</u> l’ordre des éléments.\n",
    "* Notons qu’en Python, pour une liste *L=[5,1,2,8,1,5]*, le même résultat est obtenu par `set(L)` qui transforme L en un ensemble. Par contre, l’ensemble obtenu sera ordonné. C’est ce que l’on veut éviter ici."
   ]
  },
  {
   "cell_type": "markdown",
   "metadata": {},
   "source": [
    "## <font color=red>XI-8 Bonus : Scinder une liste</font>\n",
    "<img src=\"images/XI_09.PNG\">"
   ]
  },
  {
   "cell_type": "markdown",
   "metadata": {},
   "source": [
    "# XII Tuples\n",
    "<img src=\"images/XI_10.PNG\">"
   ]
  },
  {
   "cell_type": "code",
   "execution_count": null,
   "metadata": {
    "collapsed": false
   },
   "outputs": [],
   "source": [
    "a_tuple = (1,2)\n",
    "a_tuple += (3,4)\n",
    "print(a_tuple)\n",
    "# (1,2,3,4)\n",
    "\n",
    "# a_tuple[0]+=3 : erreur : affectation/modification interdites\n",
    "\n",
    "print(a_tuple[3])\n",
    "# 4"
   ]
  },
  {
   "cell_type": "markdown",
   "metadata": {},
   "source": [
    "* Tentative de modification des éléments non mutables du tuple :"
   ]
  },
  {
   "cell_type": "code",
   "execution_count": null,
   "metadata": {
    "collapsed": false
   },
   "outputs": [],
   "source": [
    "# a_tuple[4]=5 # --> erreur affectation/modification interdites\n",
    "# a_tuple+=(5) # --> erreur can only concatenate tuple (not \"int\") to tuple"
   ]
  },
  {
   "cell_type": "markdown",
   "metadata": {},
   "source": [
    "* Mais si un élément du tuple est mutable (ici une liste), alors les modifications sont possibles :"
   ]
  },
  {
   "cell_type": "code",
   "execution_count": null,
   "metadata": {
    "collapsed": false
   },
   "outputs": [],
   "source": [
    "a_tuple = (1,2,3,4)\n",
    "a_tuple += (['Hello'], 'Paris')\n",
    "print(a_tuple)\n",
    "# (1, 2, 3, 4, ['Hello'], 'Paris')\n",
    "\n",
    "print(a_tuple.index(['Hello']))\n",
    "# 4\n",
    "\n",
    "# a_tuple[4] = ['GoodBye'] : erreur affectation/modification interdites\n",
    "# Le tuple est allergique à l’opérateur d’affectation."
   ]
  },
  {
   "cell_type": "markdown",
   "metadata": {},
   "source": [
    "* Par contre, on peut modifier le contenu de la liste [’Hello’]"
   ]
  },
  {
   "cell_type": "code",
   "execution_count": null,
   "metadata": {
    "collapsed": false
   },
   "outputs": [],
   "source": [
    "a_tuple = (1,2,3,4)\n",
    "a_tuple += (['Hello'], 'Paris')\n",
    "print(a_tuple)\n",
    "a_tuple[4].append('World')\n",
    "print(a_tuple)\n",
    "# (1, 2, 3, 4, ['Hello', 'World'], 'Paris')\n",
    "\n",
    "a_tuple[4]+=['of Lions']\n",
    "print(a_tuple)\n",
    "# "
   ]
  },
  {
   "cell_type": "markdown",
   "metadata": {},
   "source": [
    "* On peut également modifier un élément de la liste `[’Hello’, ’World’, ’of Lions’]`"
   ]
  },
  {
   "cell_type": "code",
   "execution_count": null,
   "metadata": {
    "collapsed": false
   },
   "outputs": [],
   "source": [
    "a_tuple = (1,2,3,4)\n",
    "a_tuple += (['Hello'], 'Paris')\n",
    "a_tuple[4].append('World')\n",
    "\n",
    "a_tuple[4][0] = 'God Luck'\n",
    "print(a_tuple)\n",
    "# (1, 2, 3, 4, ['God Luck', 'World'], 'Paris')"
   ]
  },
  {
   "cell_type": "markdown",
   "metadata": {},
   "source": [
    "* On peut ajouter des doublets ou plus à un tuple. On va ajouter un couple puis un triplet :"
   ]
  },
  {
   "cell_type": "code",
   "execution_count": null,
   "metadata": {
    "collapsed": false
   },
   "outputs": [],
   "source": [
    "a_tuple = (1,2,3,4)\n",
    "a_tuple += (['Hello'], 'Paris')\n",
    "a_tuple[4].append('World')\n",
    "a_tuple[4][0] = 'God Luck'\n",
    "\n",
    "a_tuple += (5, 'toto')\n",
    "print(a_tuple)\n",
    "# (1, 2, 3, 4, ['God Luck', 'World'], 'Paris', 5, 'toto')\n",
    "\n",
    "a_tuple += (10,20,30)\n",
    "print(a_tuple)\n",
    "# (1, 2, 3, 4, ['God Luck', 'World'], 'Paris', 5, 'toto', 10, 20, 30)"
   ]
  },
  {
   "cell_type": "markdown",
   "metadata": {},
   "source": [
    "## XII-1 Accès aux éléments d’un tuple\n",
    "* Comme pour les liste, on peut avoir accès aux éléments du tuple par indice négatif et par tranches. Exemple :"
   ]
  },
  {
   "cell_type": "code",
   "execution_count": null,
   "metadata": {
    "collapsed": false
   },
   "outputs": [],
   "source": [
    "t = (\"a\",\"b\",\"c\",\"z\",\"example\")\n",
    "print(t)\n",
    "# ('a', 'b', 'c', 'z', 'example')\n",
    "\n",
    "print(t[0])\n",
    "# a\n",
    "\n",
    "print(t[-1])\n",
    "# example\n",
    "\n",
    "print(t[1:3])\n",
    "# ('b', 'c')\n",
    "\n",
    "print('z' in t)\n",
    "# True"
   ]
  },
  {
   "cell_type": "markdown",
   "metadata": {},
   "source": [
    "* On peut associer des variables aux membres d’un tuple :"
   ]
  },
  {
   "cell_type": "code",
   "execution_count": null,
   "metadata": {
    "collapsed": false
   },
   "outputs": [],
   "source": [
    "v = ('a','b','e') # v est un tuple\n",
    "(x,y,z) = v\n",
    "print(x)\n",
    "# a\n",
    "\n",
    "print(y)\n",
    "# b\n",
    "\n",
    "print(z)\n",
    "# e"
   ]
  },
  {
   "cell_type": "markdown",
   "metadata": {},
   "source": [
    "* Association d’un rang (à partir de 0) aux éléments d’un tuple."
   ]
  },
  {
   "cell_type": "code",
   "execution_count": null,
   "metadata": {
    "collapsed": false
   },
   "outputs": [],
   "source": [
    "print(list(range(7))) # 'list' nécessaire en Python 3\n",
    "# [0, 1, 2, 3, 4, 5, 6]\n",
    "\n",
    "(vertu, genie, travail, opinion, recompenses, revolution, sanculottides) = range(7)\n",
    "print(vertu)\n",
    "# 0\n",
    "\n",
    "print(sanculottides)\n",
    "# 6"
   ]
  },
  {
   "cell_type": "markdown",
   "metadata": {},
   "source": [
    "* Mais aussi, il est possible d’associer un range ̸= 0 au premier élément. Noter la fonction $len$ :"
   ]
  },
  {
   "cell_type": "code",
   "execution_count": null,
   "metadata": {
    "collapsed": false
   },
   "outputs": [],
   "source": [
    "print(len((vertu, genie, travail, opinion, recompenses, revolution, sanculottides)))\n",
    "#7\n",
    "(vertu, genie, travail, opinion, recompenses, revolution, sanculottides) = range(3, 10) \n",
    "print(vertu)\n",
    "#3"
   ]
  },
  {
   "cell_type": "markdown",
   "metadata": {},
   "source": [
    "# XIII Introduction à la mise en page\n",
    "* Écrire des choses avec print :"
   ]
  },
  {
   "cell_type": "code",
   "execution_count": null,
   "metadata": {
    "collapsed": false
   },
   "outputs": [],
   "source": [
    "q = 459\n",
    "p = 0.098\n",
    "print(q, p, p*q)\n",
    "# Donne −−> 459 0.098 44.982\n",
    "\n",
    "print(q, p, p*q, sep=\",\") \n",
    "# Donne −−> 459,0.098,44.982\n",
    "\n",
    "print(q, p, p*q, sep=\":-)\")\n",
    "# Donne −−> 459 :−) 0.098 :−) 44.982"
   ]
  },
  {
   "cell_type": "markdown",
   "metadata": {},
   "source": [
    "$\\implies$ `print` renvoie `None` (au cas où vous vous laisseriez aller à la programmation fonctionnelle !)."
   ]
  },
  {
   "cell_type": "code",
   "execution_count": null,
   "metadata": {
    "collapsed": false
   },
   "outputs": [],
   "source": [
    "print(print(1))\n",
    "# 1\n",
    "# None"
   ]
  },
  {
   "cell_type": "markdown",
   "metadata": {},
   "source": [
    "* On peut créer des strings et les écrire"
   ]
  },
  {
   "cell_type": "code",
   "execution_count": null,
   "metadata": {
    "collapsed": false
   },
   "outputs": [],
   "source": [
    "print(str(q) + \" >> \" + str(p) + \" << \" + str(p * q)) \n",
    "# Donne −−> 459 >> 0.098 << 44.982"
   ]
  },
  {
   "cell_type": "markdown",
   "metadata": {},
   "source": [
    "* Le format : opérateur \"%\" (hérité du langage C)"
   ]
  },
  {
   "cell_type": "code",
   "execution_count": null,
   "metadata": {
    "collapsed": false
   },
   "outputs": [],
   "source": [
    "x=5\n",
    "print('%d'%x)\n",
    "# Donne−−> ’5’ \n",
    "\n",
    "print('(%d)'%x)\n",
    "# Donne −−> ’(5) ’\n",
    "\n",
    "print('Je connais un mouton à %d pattes.'%x)\n",
    "# Donne −−> ’Je connais un mouton à 5 pattes . ’\n",
    "\n",
    "y=2\n",
    "print('Je connais %d moutons à %d pattes.'%(y,x))\n",
    "# Donne −−> ’Je connais 2 moutons à 5 pattes . ’"
   ]
  },
  {
   "cell_type": "markdown",
   "metadata": {},
   "source": [
    "<img src=\"images/XI_11.png\">"
   ]
  },
  {
   "cell_type": "code",
   "execution_count": null,
   "metadata": {
    "collapsed": false
   },
   "outputs": [],
   "source": [
    "r=2\n",
    "pi=3.1415926\n",
    "print(\"La surface pour un rayon <%3d> sera <%8.3f>\"%(r, r*r*pi))\n",
    "# Donne −−> La surface pour un rayon < 2> sera < 12.566>"
   ]
  },
  {
   "cell_type": "markdown",
   "metadata": {},
   "source": [
    "<img src=\"images/XI_12.png\">\n",
    "* Quelques exemples :"
   ]
  },
  {
   "cell_type": "code",
   "execution_count": null,
   "metadata": {
    "collapsed": false
   },
   "outputs": [],
   "source": [
    "print(\"%10.3e\"% (356.08977)) \n",
    "#Donne −−> 3.561e+02\n",
    "print(\"%10.3E\"% (356.08977)) \n",
    "#Donne −−> 3.561E+02\n",
    "print(\"%10o\"% (25)) \n",
    "#Donne −−> 31\n",
    "print(\"%10.3o\"% (25)) \n",
    "#Donne −−> 031 \n",
    "print(\"%10.5o\"% (25)) \n",
    "#Donne −−> 00031\n",
    "print(\"%5x\"% (47)) \n",
    "#Donne −−> 2f\n",
    "print(\"%5.4x\"% (47)) \n",
    "#Donne −−> 002f\n",
    "print(\"%5.4X\"% (47)) \n",
    "#Donne −−> 002F\n",
    "print(\"Only one percentage sign: %% \" % ()) \n",
    "#Donne −−> Only one percentage sign : %\n",
    "print('%d' % 0x12 ) \n",
    "#Donne −−> 18"
   ]
  },
  {
   "cell_type": "markdown",
   "metadata": {},
   "source": [
    "## XIII-1 La fonction format\n",
    "<img src=\"images/XI_13.png\">"
   ]
  },
  {
   "cell_type": "code",
   "execution_count": null,
   "metadata": {
    "collapsed": false
   },
   "outputs": [],
   "source": [
    "r=2\n",
    "pi=3.1415926\n",
    "\"La surface pour un rayon {0:3d} sera {1:8.3f}\".format(r, r*r*pi) \n",
    "# Donne −−> ’La surface pour un rayon 2 sera 12.566’"
   ]
  },
  {
   "cell_type": "markdown",
   "metadata": {},
   "source": [
    "<img src=\"images/XI_14.png\">"
   ]
  },
  {
   "cell_type": "code",
   "execution_count": null,
   "metadata": {
    "collapsed": false
   },
   "outputs": [],
   "source": [
    "print(\"First argument: {0}, second one: {1}\".format(47,11))\n",
    "# Donne −−>’First argument: 47, second one: 11’\n",
    "print(\"Second argument: {1} , first one: {0}\".format(47,11))\n",
    "# Donne −−>’Second argument: 11, first one: 47’\n",
    "print(\"Second argument: {1:3d}, first one: {0:7.2f}\".format(47.42,11))\n",
    "# Donne −−>’Second argument: 11, first one: 47.42’\n",
    "print(\"First argument: {}, second one: {}\".format(47,11))\n",
    "# Donne −−>’First argument: 47, second one: 11’\n",
    "# arguments can be used more than once:\n",
    "\n",
    "print(\" various precions : {0:6.2f} or {0:6.3f} \".format (1.4148))\n",
    "# Donne −−>’various precions : 1.41 or 1.415 ’"
   ]
  },
  {
   "cell_type": "markdown",
   "metadata": {},
   "source": [
    "* Aussi, on peut remplacer la numérotation des colonnes et renommer les argument. Dans l’exemple ci-dessous, le `rayon` représente $r$ et la `surface` la $superficie$."
   ]
  },
  {
   "cell_type": "code",
   "execution_count": null,
   "metadata": {
    "collapsed": false
   },
   "outputs": [],
   "source": [
    "r=2\n",
    "pi=3.1415926\n",
    "\"La surface pour un rayon {rayon:3d} sera {surface:8.3f}\".format(surface=r*r*pi, rayon=r) \n",
    "# Donne −−> ’La surface pour un rayon 2 sera 12.566’"
   ]
  },
  {
   "cell_type": "markdown",
   "metadata": {},
   "source": [
    "* D’autres exemples (noter les longueurs des champs utilisées pour les strings).\n",
    "* N.B. : le symbole ’<’ impose une justification à gauche (avec ajoute d’espaces si nécessaires) et ’>’ une justification à droite."
   ]
  },
  {
   "cell_type": "code",
   "execution_count": null,
   "metadata": {
    "collapsed": false
   },
   "outputs": [],
   "source": [
    "print('%(language)s has %(number)03d quote types.' % {\"language\": \"Python\", \"number\": 2}) \n",
    "# Python has 002 quote types .\n",
    "\n",
    "print(\"{0:<20s} {1:6.2f}\".format('Spam&Eggs:', 6.99))\n",
    "# Donne −−>Spam&Eggs:             6.99\n",
    "\n",
    "print(\"{0:>20s} {1:6.2f}\".format('Spam&Eggs:', 6.99))\n",
    "# Donne −−>          Spam&Eggs:   6.99\n",
    "\n",
    "print(\"{0:>20s} {1:6.2f}\".format('Spam&Ham:', 7.99))\n",
    "# Donne −−>           Spam&Ham:   7.99\n",
    "\n",
    "print(\"{0:<20s} {1:6.2f}\".format('Spam&Ham:', 7.99))\n",
    "# Donne −−>Spam&Ham:              7.99\n",
    "\n",
    "print(\"{0:<20} {1:6.2f}\".format('Spam&Ham:', 7.99))\n",
    "# Donne −−>Spam&Ham:              7.99\n",
    "\n",
    "print(\"{0:>20} {1:6.2f}\".format('Spam&Ham:', 7.99))\n",
    "# Donne −−>           Spam&Ham:   7.99"
   ]
  },
  {
   "cell_type": "markdown",
   "metadata": {},
   "source": [
    "* Un exemple de mise en colonne de valeurs : afficher en colonnes de $x, x^2, x^3 avec x \\in 1..10$"
   ]
  },
  {
   "cell_type": "code",
   "execution_count": null,
   "metadata": {
    "collapsed": false
   },
   "outputs": [],
   "source": [
    "for x in range(1, 11):\n",
    "    print( '{0:2d} {1:3d} {2:4d}'.format(x, x*x, x*x*x))\n",
    "# 1   1    1\n",
    "# 2   4    8\n",
    "# 3   9   27\n",
    "# 4  16   64\n",
    "# 5  25  125\n",
    "# 6  36  216\n",
    "# 7  49  343\n",
    "# 8  64  512\n",
    "# 9  81  729\n",
    "#10 100 1000\n",
    "\n",
    "# On peut aussi ne rien écrire entre les {}:\n",
    "x,y= 'choux',1\n",
    "print(\"Il n’y a que {} façon de planter des {} chez {}\".format(y, x, 'nous')) \n",
    "# Donne−−> Il n’y a que 1 façon de planter des choux chez nous."
   ]
  },
  {
   "cell_type": "markdown",
   "metadata": {},
   "source": [
    "## <font color=red>XIII-2 Exercice : table de x, x*x, sqrt(x)</font>\n",
    "* Écrire un programme qui affichage en colonnes la table contenants les colonnes $x$, $x^2$ et $\\sqrt{x}$ pour $x \\in 1..N$ . Lire au préalable la valeur de N (ou supposer N = 20)."
   ]
  }
 ],
 "metadata": {
  "anaconda-cloud": {},
  "kernelspec": {
   "display_name": "Python [Root]",
   "language": "python",
   "name": "Python [Root]"
  },
  "language_info": {
   "codemirror_mode": {
    "name": "ipython",
    "version": 3
   },
   "file_extension": ".py",
   "mimetype": "text/x-python",
   "name": "python",
   "nbconvert_exporter": "python",
   "pygments_lexer": "ipython3",
   "version": "3.5.2"
  }
 },
 "nbformat": 4,
 "nbformat_minor": 0
}
